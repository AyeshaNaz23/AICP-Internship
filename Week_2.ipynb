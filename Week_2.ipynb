{
  "nbformat": 4,
  "nbformat_minor": 0,
  "metadata": {
    "colab": {
      "provenance": [],
      "authorship_tag": "ABX9TyNAtV+5uA68v1TPSR83FBvz"
    },
    "kernelspec": {
      "name": "python3",
      "display_name": "Python 3"
    },
    "language_info": {
      "name": "python"
    }
  },
  "cells": [
    {
      "cell_type": "markdown",
      "source": [
        "## **AICP Internship Task Week 2**"
      ],
      "metadata": {
        "id": "Clo1n8h8z-Ln"
      }
    },
    {
      "cell_type": "code",
      "source": [
        "import pandas as pd\n",
        "\n",
        "data = [1, 4, 9, 6, 7]\n",
        "index = ['a','x','c',2 , 'e']\n",
        "series = pd.Series(data, index=index, dtype='int64')\n",
        "print(series)"
      ],
      "metadata": {
        "colab": {
          "base_uri": "https://localhost:8080/"
        },
        "id": "rKvqvdRJBEtv",
        "outputId": "7909f11c-d72d-4bde-c957-e88848269e41"
      },
      "execution_count": 1,
      "outputs": [
        {
          "output_type": "stream",
          "name": "stdout",
          "text": [
            "a    1\n",
            "x    4\n",
            "c    9\n",
            "2    6\n",
            "e    7\n",
            "dtype: int64\n"
          ]
        }
      ]
    },
    {
      "cell_type": "code",
      "source": [
        "import pandas as pd\n",
        "\n",
        "data = {'Bilal': 42, 'Ayesha': 38, 'Hadia': 39}\n",
        "series = pd.Series(data)\n",
        "print(series)"
      ],
      "metadata": {
        "colab": {
          "base_uri": "https://localhost:8080/"
        },
        "id": "LbiUYxd7BUC-",
        "outputId": "e56ca51a-11c8-448b-c7a2-5c2a94f0082e"
      },
      "execution_count": 2,
      "outputs": [
        {
          "output_type": "stream",
          "name": "stdout",
          "text": [
            "Bilal     42\n",
            "Ayesha    38\n",
            "Hadia     39\n",
            "dtype: int64\n"
          ]
        }
      ]
    },
    {
      "cell_type": "code",
      "source": [
        "import pandas as pd\n",
        "\n",
        "# Create a Python dictionary with the provided data\n",
        "data = {\n",
        "    'day': ['1/1/2017', '1/2/2017', '1/3/2017', '1/4/2017', '1/5/2017', '1/6/2017'],\n",
        "    'temperature': [32, 35, 28, 24, 32, 31],\n",
        "    'windspeed': [6, 7, 2, 7, 4, 2],\n",
        "    'event': ['Rain', 'Sunny', 'Snow', 'Snow', 'Rain', 'Sunny']\n",
        "}\n",
        "\n",
        "# Convert the dictionary into a pandas DataFrame\n",
        "df = pd.DataFrame(data)\n",
        "\n",
        "# Output the DataFrame\n",
        "print(df)"
      ],
      "metadata": {
        "colab": {
          "base_uri": "https://localhost:8080/"
        },
        "id": "zDtzvNd7BZcQ",
        "outputId": "3f5af4ca-36ee-424c-dd64-c395f38989d8"
      },
      "execution_count": 3,
      "outputs": [
        {
          "output_type": "stream",
          "name": "stdout",
          "text": [
            "        day  temperature  windspeed  event\n",
            "0  1/1/2017           32          6   Rain\n",
            "1  1/2/2017           35          7  Sunny\n",
            "2  1/3/2017           28          2   Snow\n",
            "3  1/4/2017           24          7   Snow\n",
            "4  1/5/2017           32          4   Rain\n",
            "5  1/6/2017           31          2  Sunny\n"
          ]
        }
      ]
    },
    {
      "cell_type": "code",
      "source": [
        "df = pd.DataFrame(data, index=['a', 'b', 'c', 'd', 'e', 'f'])\n",
        "print(df)"
      ],
      "metadata": {
        "colab": {
          "base_uri": "https://localhost:8080/"
        },
        "id": "ZTHZVK_EBerq",
        "outputId": "2cf92d38-5e1d-464a-9b41-b70b54e02653"
      },
      "execution_count": 4,
      "outputs": [
        {
          "output_type": "stream",
          "name": "stdout",
          "text": [
            "        day  temperature  windspeed  event\n",
            "a  1/1/2017           32          6   Rain\n",
            "b  1/2/2017           35          7  Sunny\n",
            "c  1/3/2017           28          2   Snow\n",
            "d  1/4/2017           24          7   Snow\n",
            "e  1/5/2017           32          4   Rain\n",
            "f  1/6/2017           31          2  Sunny\n"
          ]
        }
      ]
    },
    {
      "cell_type": "code",
      "source": [
        "# Calculate mean, maximum, and minimum temperature\n",
        "mean_temp = df['temperature'].mean()\n",
        "max_temp = df['temperature'].max()\n",
        "min_temp = df['temperature'].min()\n",
        "\n",
        "# Output the results\n",
        "print(\"Mean temperature:\", mean_temp)\n",
        "print(\"Maximum temperature:\", max_temp)\n",
        "print(\"Minimum temperature:\", min_temp)"
      ],
      "metadata": {
        "colab": {
          "base_uri": "https://localhost:8080/"
        },
        "id": "DHFWT0YZBmGL",
        "outputId": "cec73a90-64ba-43e1-da23-7d862b89bf7a"
      },
      "execution_count": 5,
      "outputs": [
        {
          "output_type": "stream",
          "name": "stdout",
          "text": [
            "Mean temperature: 30.333333333333332\n",
            "Maximum temperature: 35\n",
            "Minimum temperature: 24\n"
          ]
        }
      ]
    },
    {
      "cell_type": "code",
      "execution_count": 6,
      "metadata": {
        "colab": {
          "base_uri": "https://localhost:8080/"
        },
        "id": "Q2rBF9D0fkJj",
        "outputId": "1c80c7af-fd1d-4583-cab2-50065a341fef"
      },
      "outputs": [
        {
          "output_type": "stream",
          "name": "stdout",
          "text": [
            "  First Name     Sex                       Email                   Phone  \\\n",
            "0     Shelby    Male        elijah57@example.net  001-084-906-7849x73518   \n",
            "1    Phillip  Female       bethany14@example.com       214.112.6044x4913   \n",
            "2   Kristine    Male       bthompson@example.com            277.609.7938   \n",
            "3    Yesenia    Male   kaitlinkaiser@example.com            584.094.6111   \n",
            "4       Lori    Male  buchananmanuel@example.net       689-207-3558x7233   \n",
            "\n",
            "            Job Title  \n",
            "0     Games developer  \n",
            "1      Phytotherapist  \n",
            "2           Homeopath  \n",
            "3   Market researcher  \n",
            "4  Veterinary surgeon  \n"
          ]
        }
      ],
      "source": [
        "import pandas as pd\n",
        "\n",
        "# Specify the file path\n",
        "file_path = \"people.csv\"\n",
        "\n",
        "# Read the CSV file and select specific columns\n",
        "columns_to_select = [\"First Name\", \"Sex\", \"Email\", \"Phone\", \"Job Title\"]\n",
        "dataframe = pd.read_csv(file_path, usecols=columns_to_select)\n",
        "\n",
        "# Display the first few rows of the DataFrame\n",
        "print(dataframe.head())\n"
      ]
    },
    {
      "cell_type": "code",
      "source": [
        "#Setting \"Sex\", \"Job Title\" as index columns\n",
        "dataframe.set_index([\"Sex\", \"Job Title\"], inplace=True)\n",
        "print(dataframe)"
      ],
      "metadata": {
        "colab": {
          "base_uri": "https://localhost:8080/"
        },
        "id": "p7CxXMBxpxiz",
        "outputId": "ca677d97-c30d-443c-b2cc-b84785ebabc3"
      },
      "execution_count": 7,
      "outputs": [
        {
          "output_type": "stream",
          "name": "stdout",
          "text": [
            "                             First Name                       Email  \\\n",
            "Sex    Job Title                                                      \n",
            "Male   Games developer           Shelby        elijah57@example.net   \n",
            "Female Phytotherapist           Phillip       bethany14@example.com   \n",
            "Male   Homeopath               Kristine       bthompson@example.com   \n",
            "       Market researcher        Yesenia   kaitlinkaiser@example.com   \n",
            "       Veterinary surgeon          Lori  buchananmanuel@example.net   \n",
            "...                                 ...                         ...   \n",
            "Female Software engineer         Dennis         bmartin@example.org   \n",
            "       Barrister                  Steve       latasha46@example.net   \n",
            "Male   Police officer            Wesley        regina11@example.org   \n",
            "Female Broadcast journalist      Summer  alexiscantrell@example.org   \n",
            "Male   IT sales professional     Mariah       pcopeland@example.org   \n",
            "\n",
            "                                               Phone  \n",
            "Sex    Job Title                                      \n",
            "Male   Games developer        001-084-906-7849x73518  \n",
            "Female Phytotherapist              214.112.6044x4913  \n",
            "Male   Homeopath                        277.609.7938  \n",
            "       Market researcher                584.094.6111  \n",
            "       Veterinary surgeon          689-207-3558x7233  \n",
            "...                                              ...  \n",
            "Female Software engineer        001-095-524-2112x257  \n",
            "       Barrister                    001-865-478-5157  \n",
            "Male   Police officer             995-542-3004x76800  \n",
            "Female Broadcast journalist     001-273-685-6932x092  \n",
            "Male   IT sales professional     (341)594-6554x44657  \n",
            "\n",
            "[100 rows x 3 columns]\n"
          ]
        }
      ]
    },
    {
      "cell_type": "code",
      "source": [
        "#Skipping rows[1,5]\n",
        "dataframe = pd.read_csv(file_path, skiprows=[1, 5])\n",
        "print(dataframe)"
      ],
      "metadata": {
        "colab": {
          "base_uri": "https://localhost:8080/"
        },
        "id": "Xswa1roLp8J8",
        "outputId": "773d1a30-ace1-4267-8003-7553f4a25951"
      },
      "execution_count": 8,
      "outputs": [
        {
          "output_type": "stream",
          "name": "stdout",
          "text": [
            "    Index          User Id First Name  Last Name     Sex  \\\n",
            "0       2  f90cD3E76f1A9b9    Phillip    Summers  Female   \n",
            "1       3  DbeAb8CcdfeFC2c   Kristine     Travis    Male   \n",
            "2       4  A31Bee3c201ef58    Yesenia   Martinez    Male   \n",
            "3       6  bfDD7CDEF5D865B       Erin        Day    Male   \n",
            "4       7  bE9EEf34cB72AF7  Katherine       Buck  Female   \n",
            "..    ...              ...        ...        ...     ...   \n",
            "93     96  5eFda7caAeB260E     Dennis     Barnes  Female   \n",
            "94     97  CCbFce93d3720bE      Steve  Patterson  Female   \n",
            "95     98  2fEc528aFAF0b69     Wesley       Bray    Male   \n",
            "96     99  Adc7ad9B6e4A1Fe     Summer   Oconnell  Female   \n",
            "97    100  b8D0aD3490FC7e1     Mariah    Bernard    Male   \n",
            "\n",
            "                         Email                  Phone Date of birth  \\\n",
            "0        bethany14@example.com      214.112.6044x4913    1910-03-24   \n",
            "1        bthompson@example.com           277.609.7938    1992-07-02   \n",
            "2    kaitlinkaiser@example.com           584.094.6111    2017-08-03   \n",
            "3          tconner@example.org  001-171-649-9856x5553    2015-10-28   \n",
            "4      conniecowan@example.com  +1-773-151-6685x49162    1989-01-22   \n",
            "..                         ...                    ...           ...   \n",
            "93         bmartin@example.org   001-095-524-2112x257    1954-07-30   \n",
            "94       latasha46@example.net       001-865-478-5157    1932-04-29   \n",
            "95        regina11@example.org     995-542-3004x76800    1994-12-28   \n",
            "96  alexiscantrell@example.org   001-273-685-6932x092    2012-04-12   \n",
            "97       pcopeland@example.org    (341)594-6554x44657    2016-11-15   \n",
            "\n",
            "                   Job Title  \n",
            "0             Phytotherapist  \n",
            "1                  Homeopath  \n",
            "2          Market researcher  \n",
            "3   Waste management officer  \n",
            "4       Intelligence analyst  \n",
            "..                       ...  \n",
            "93         Software engineer  \n",
            "94                 Barrister  \n",
            "95            Police officer  \n",
            "96      Broadcast journalist  \n",
            "97     IT sales professional  \n",
            "\n",
            "[98 rows x 9 columns]\n"
          ]
        }
      ]
    },
    {
      "cell_type": "code",
      "source": [
        "export_file_path = \"NewPeople.csv\"\n",
        "\n",
        "# Export the DataFrame to a new CSV file\n",
        "dataframe.to_csv(export_file_path)\n",
        "\n",
        "print(\"Exported CSV file successfully as 'NewPeople.csv'.\")"
      ],
      "metadata": {
        "colab": {
          "base_uri": "https://localhost:8080/"
        },
        "id": "gM7xGHBqo6fY",
        "outputId": "a3256484-910c-4906-f8dc-0f15977c4e6b"
      },
      "execution_count": 9,
      "outputs": [
        {
          "output_type": "stream",
          "name": "stdout",
          "text": [
            "Exported CSV file successfully as 'NewPeople.csv'.\n"
          ]
        }
      ]
    },
    {
      "cell_type": "code",
      "source": [
        "import pandas as pd\n",
        "\n",
        "# Specify the file path\n",
        "file_path = \"SampleWork.xlsx\""
      ],
      "metadata": {
        "id": "ThQXLwlsrrNS"
      },
      "execution_count": 10,
      "outputs": []
    },
    {
      "cell_type": "code",
      "source": [
        "# Read the Excel sheet 1\n",
        "data = pd.read_excel(file_path, sheet_name=0)\n",
        "print(data)"
      ],
      "metadata": {
        "colab": {
          "base_uri": "https://localhost:8080/"
        },
        "id": "VoGXEapsrwI5",
        "outputId": "83c52251-2b5b-4677-eede-26ed8ce6b695"
      },
      "execution_count": 11,
      "outputs": [
        {
          "output_type": "stream",
          "name": "stdout",
          "text": [
            "     Name  Age   Stream  Percentage\n",
            "0    Amir   18     Math          95\n",
            "1   Bilal   19  Science          90\n",
            "2  Sufyan   20  Comerce          85\n",
            "3   Saiqa   18     Math          80\n",
            "4   Aimen   32  Science          75\n"
          ]
        }
      ]
    },
    {
      "cell_type": "code",
      "source": [
        "#import only first and last column\n",
        "data = pd.read_excel(file_path,sheet_name=0, usecols= [0,-1])\n",
        "print(data)"
      ],
      "metadata": {
        "colab": {
          "base_uri": "https://localhost:8080/"
        },
        "id": "bzm-RqH-sEj8",
        "outputId": "9a29485e-10d3-4e45-a425-9c92c0b6c37b"
      },
      "execution_count": 12,
      "outputs": [
        {
          "output_type": "stream",
          "name": "stdout",
          "text": [
            "     Name\n",
            "0    Amir\n",
            "1   Bilal\n",
            "2  Sufyan\n",
            "3   Saiqa\n",
            "4   Aimen\n"
          ]
        }
      ]
    },
    {
      "cell_type": "code",
      "source": [
        "# skip row 2\n",
        "data = pd.read_excel(file_path, skiprows=[2])\n",
        "print(data)"
      ],
      "metadata": {
        "colab": {
          "base_uri": "https://localhost:8080/"
        },
        "id": "odEvq3AvrwV6",
        "outputId": "944fbb0e-7794-4ba9-e5d1-648d9ac014c6"
      },
      "execution_count": 13,
      "outputs": [
        {
          "output_type": "stream",
          "name": "stdout",
          "text": [
            "     Name  Age   Stream  Percentage\n",
            "0    Amir   18     Math          95\n",
            "1  Sufyan   20  Comerce          85\n",
            "2   Saiqa   18     Math          80\n",
            "3   Aimen   32  Science          75\n"
          ]
        }
      ]
    },
    {
      "cell_type": "code",
      "source": [
        "# set row 2 as header\n",
        "data = pd.read_excel(file_path, header=2)\n",
        "print(data)"
      ],
      "metadata": {
        "colab": {
          "base_uri": "https://localhost:8080/"
        },
        "id": "Z0OrbY3PrwgS",
        "outputId": "670afdb0-0d2a-438b-b73d-6a2ad12e9263"
      },
      "execution_count": 14,
      "outputs": [
        {
          "output_type": "stream",
          "name": "stdout",
          "text": [
            "    Bilal  19  Science  90\n",
            "0  Sufyan  20  Comerce  85\n",
            "1   Saiqa  18     Math  80\n",
            "2   Aimen  32  Science  75\n"
          ]
        }
      ]
    },
    {
      "cell_type": "code",
      "source": [
        "# Export the modified DataFrame as a new sheet in the same Excel file\n",
        "with pd.ExcelWriter(file_path, engine='openpyxl', mode='a') as writer:\n",
        "    data.to_excel(writer, sheet_name='NewSheet', index=False)\n",
        "\n",
        "print(\"Exported DataFrame as 'NewSheet' in 'SampleWork.xlsx'.\")"
      ],
      "metadata": {
        "colab": {
          "base_uri": "https://localhost:8080/"
        },
        "id": "pNFa3dUysZOf",
        "outputId": "86b0d19d-8d34-4bd0-ce8b-e6a2cf74c7f1"
      },
      "execution_count": 15,
      "outputs": [
        {
          "output_type": "stream",
          "name": "stdout",
          "text": [
            "Exported DataFrame as 'NewSheet' in 'SampleWork.xlsx'.\n"
          ]
        }
      ]
    },
    {
      "cell_type": "code",
      "source": [
        "import pandas as pd\n",
        "\n",
        "# Create DataFrame AICP_DF\n",
        "data = {\n",
        "    'Name': ['Sonia', 'Bilal', 'Hifza', 'Kabir', 'jazim'],\n",
        "    'Age': [27, 24, 22, 32, 23],\n",
        "    'Address': ['Lahore', 'Karachi', 'Sialkot', 'Peshawar', 'lhr'],\n",
        "    'Qualification': ['Msc', 'MA', 'MCA', 'Phd', 'bsc']\n",
        "}\n",
        "\n",
        "AICP_DF = pd.DataFrame(data)\n",
        "print(\"AICP_DF:\")\n",
        "print(AICP_DF)\n"
      ],
      "metadata": {
        "colab": {
          "base_uri": "https://localhost:8080/"
        },
        "id": "sLoDh7Wpy476",
        "outputId": "0112ebeb-acb8-4107-c566-bdc3440c98fb"
      },
      "execution_count": 16,
      "outputs": [
        {
          "output_type": "stream",
          "name": "stdout",
          "text": [
            "AICP_DF:\n",
            "    Name  Age   Address Qualification\n",
            "0  Sonia   27    Lahore           Msc\n",
            "1  Bilal   24   Karachi            MA\n",
            "2  Hifza   22   Sialkot           MCA\n",
            "3  Kabir   32  Peshawar           Phd\n",
            "4  jazim   23       lhr           bsc\n"
          ]
        }
      ]
    },
    {
      "cell_type": "code",
      "source": [
        "# Select 'Name', 'Qualification' columns and save to df1\n",
        "df1 = AICP_DF[['Name', 'Qualification']]\n",
        "print(\"\\ndf1:\")\n",
        "print(df1)"
      ],
      "metadata": {
        "colab": {
          "base_uri": "https://localhost:8080/"
        },
        "id": "dn5F2BXKzC34",
        "outputId": "0be51e7b-93e3-4af7-dfd1-a9316859a117"
      },
      "execution_count": 17,
      "outputs": [
        {
          "output_type": "stream",
          "name": "stdout",
          "text": [
            "\n",
            "df1:\n",
            "    Name Qualification\n",
            "0  Sonia           Msc\n",
            "1  Bilal            MA\n",
            "2  Hifza           MCA\n",
            "3  Kabir           Phd\n",
            "4  jazim           bsc\n"
          ]
        }
      ]
    },
    {
      "cell_type": "code",
      "source": [
        "# Add a new column \"Height\" with the given values\n",
        "AICP_DF['Height'] = [5.1, 6.2, 5.1, 5.2, 5.1]\n",
        "print(\"AICP_DF:\")\n",
        "print(AICP_DF)"
      ],
      "metadata": {
        "colab": {
          "base_uri": "https://localhost:8080/"
        },
        "id": "AoFt5oVozPdc",
        "outputId": "f1e92c41-357a-4d6c-c075-ec9e1e47366b"
      },
      "execution_count": 18,
      "outputs": [
        {
          "output_type": "stream",
          "name": "stdout",
          "text": [
            "AICP_DF:\n",
            "    Name  Age   Address Qualification  Height\n",
            "0  Sonia   27    Lahore           Msc     5.1\n",
            "1  Bilal   24   Karachi            MA     6.2\n",
            "2  Hifza   22   Sialkot           MCA     5.1\n",
            "3  Kabir   32  Peshawar           Phd     5.2\n",
            "4  jazim   23       lhr           bsc     5.1\n"
          ]
        }
      ]
    },
    {
      "cell_type": "code",
      "source": [
        "# Set column \"Name\" as the index column\n",
        "AICP_DF.set_index('Name', inplace=True)\n",
        "print(\"AICP_DF:\")\n",
        "print(AICP_DF)"
      ],
      "metadata": {
        "colab": {
          "base_uri": "https://localhost:8080/"
        },
        "id": "0gS9SJbkzWZI",
        "outputId": "60eafd08-e34a-4f4e-9e08-b07a71f260c5"
      },
      "execution_count": 19,
      "outputs": [
        {
          "output_type": "stream",
          "name": "stdout",
          "text": [
            "AICP_DF:\n",
            "       Age   Address Qualification  Height\n",
            "Name                                      \n",
            "Sonia   27    Lahore           Msc     5.1\n",
            "Bilal   24   Karachi            MA     6.2\n",
            "Hifza   22   Sialkot           MCA     5.1\n",
            "Kabir   32  Peshawar           Phd     5.2\n",
            "jazim   23       lhr           bsc     5.1\n"
          ]
        }
      ]
    },
    {
      "cell_type": "code",
      "source": [
        "# Retrieve row with index \"Hifza\"\n",
        "row_hifza = AICP_DF.loc['Hifza']\n",
        "print(\"\\nRow with index 'Hifza':\")\n",
        "print(row_hifza)"
      ],
      "metadata": {
        "colab": {
          "base_uri": "https://localhost:8080/"
        },
        "id": "ufxEEhwuzZTn",
        "outputId": "51d71426-a571-4be4-c56e-96a45761b920"
      },
      "execution_count": 20,
      "outputs": [
        {
          "output_type": "stream",
          "name": "stdout",
          "text": [
            "\n",
            "Row with index 'Hifza':\n",
            "Age                   22\n",
            "Address          Sialkot\n",
            "Qualification        MCA\n",
            "Height               5.1\n",
            "Name: Hifza, dtype: object\n"
          ]
        }
      ]
    },
    {
      "cell_type": "code",
      "source": [
        "# Retrieve row with index 3\n",
        "row_index_3 = AICP_DF.iloc[3]\n",
        "print(\"\\nRow with index 3:\")\n",
        "print(row_index_3)\n"
      ],
      "metadata": {
        "colab": {
          "base_uri": "https://localhost:8080/"
        },
        "id": "IOWDAdcYzqx7",
        "outputId": "da91668a-3203-4b83-f433-a993db2131cd"
      },
      "execution_count": 21,
      "outputs": [
        {
          "output_type": "stream",
          "name": "stdout",
          "text": [
            "\n",
            "Row with index 3:\n",
            "Age                    32\n",
            "Address          Peshawar\n",
            "Qualification         Phd\n",
            "Height                5.2\n",
            "Name: Kabir, dtype: object\n"
          ]
        }
      ]
    },
    {
      "cell_type": "code",
      "source": [
        "# Drop row with index \"Bilal\"\n",
        "AICP_DF.drop(index='Bilal', inplace=True)\n",
        "print(\"AICP_DF:\")\n",
        "print(AICP_DF)"
      ],
      "metadata": {
        "colab": {
          "base_uri": "https://localhost:8080/"
        },
        "id": "80vrjUnCzq-8",
        "outputId": "7370b3db-0422-4ca5-984c-df3cf10e5f7c"
      },
      "execution_count": 22,
      "outputs": [
        {
          "output_type": "stream",
          "name": "stdout",
          "text": [
            "AICP_DF:\n",
            "       Age   Address Qualification  Height\n",
            "Name                                      \n",
            "Sonia   27    Lahore           Msc     5.1\n",
            "Hifza   22   Sialkot           MCA     5.1\n",
            "Kabir   32  Peshawar           Phd     5.2\n",
            "jazim   23       lhr           bsc     5.1\n"
          ]
        }
      ]
    }
  ]
}