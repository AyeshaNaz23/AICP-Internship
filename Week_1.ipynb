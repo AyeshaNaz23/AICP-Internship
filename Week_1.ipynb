{
  "nbformat": 4,
  "nbformat_minor": 0,
  "metadata": {
    "colab": {
      "provenance": [],
      "authorship_tag": "ABX9TyNWtvYY7+Xstv3OtYWsGq6A"
    },
    "kernelspec": {
      "name": "python3",
      "display_name": "Python 3"
    },
    "language_info": {
      "name": "python"
    }
  },
  "cells": [
    {
      "cell_type": "markdown",
      "source": [
        "# **AICP Internship Task Week 1**"
      ],
      "metadata": {
        "id": "y089ITSNTXri"
      }
    },
    {
      "cell_type": "code",
      "execution_count": null,
      "metadata": {
        "id": "kMEQHrNpTLe5"
      },
      "outputs": [],
      "source": [
        "#Importing the Numpy library as 'np'\n",
        "import numpy as np"
      ]
    },
    {
      "cell_type": "markdown",
      "source": [
        "## Creating an array of even integers from 30 to 70"
      ],
      "metadata": {
        "id": "43rYc3viYMUy"
      }
    },
    {
      "cell_type": "code",
      "source": [
        "# We use np.arrange() with a step size of 2 to show only even integers\n",
        "array = np.arange(30,71,2)\n",
        "\n",
        "print('Array of all even intgers from 30 to 70 : ')\n",
        "\n",
        "print(array)\n",
        "\n"
      ],
      "metadata": {
        "colab": {
          "base_uri": "https://localhost:8080/"
        },
        "id": "DJRj4W1iT5gi",
        "outputId": "d09e05cb-b569-4551-c68d-eafe5851bbdc"
      },
      "execution_count": null,
      "outputs": [
        {
          "output_type": "stream",
          "name": "stdout",
          "text": [
            "Array of all even intgers from 30 to 70 : \n",
            "[30 32 34 36 38 40 42 44 46 48 50 52 54 56 58 60 62 64 66 68 70]\n"
          ]
        }
      ]
    },
    {
      "cell_type": "markdown",
      "source": [
        "#Generating an array of 15 random numbers from a standrad normal distribution\n"
      ],
      "metadata": {
        "id": "oChT0ZnbYnLx"
      }
    },
    {
      "cell_type": "code",
      "source": [
        "#We use np.random.normal() to generate an array of 15 random numbers from a standrad normal distribution\n",
        "\n",
        "rand_num= np.random.normal(0,1,15)\n",
        "\n",
        "print(\"An array of 15 random numbers from a standrad normal distribution is : \")\n",
        "print(rand_num)\n"
      ],
      "metadata": {
        "colab": {
          "base_uri": "https://localhost:8080/"
        },
        "id": "rNolrvmBU8wa",
        "outputId": "c51f20c4-cb70-48b2-df94-4f23e5b5d979"
      },
      "execution_count": null,
      "outputs": [
        {
          "output_type": "stream",
          "name": "stdout",
          "text": [
            "An array of 15 random numbers from a standrad normal distribution is : \n",
            "[-0.64855023 -1.76499966  0.14570591  1.95154887 -1.21723798 -0.80711495\n",
            " -0.37103518 -0.93954115 -0.44224419 -0.86891476 -0.2014137   0.83548192\n",
            "  0.44997338  0.18606616  0.67888842]\n"
          ]
        }
      ]
    },
    {
      "cell_type": "markdown",
      "source": [
        "## Computing cross product of two given vectors"
      ],
      "metadata": {
        "id": "PmAnSNcGX33G"
      }
    },
    {
      "cell_type": "code",
      "source": [
        "#We declare the two vectors\n",
        "x=[1,2]\n",
        "y=[3,4]\n",
        "\n",
        "#Find cross product of two given vectors\n",
        "result= np.cross(x,y)\n",
        "\n",
        "print(\"Cross product of the two given vectors is:\",result)"
      ],
      "metadata": {
        "colab": {
          "base_uri": "https://localhost:8080/"
        },
        "id": "D5erTw1uVXFg",
        "outputId": "ddb4ae06-01c0-4107-fae6-654a1c7a4d92"
      },
      "execution_count": null,
      "outputs": [
        {
          "output_type": "stream",
          "name": "stdout",
          "text": [
            "Cross product of the two given vectors is: -2\n"
          ]
        }
      ]
    },
    {
      "cell_type": "markdown",
      "source": [
        "#Determinant of an array using NumPy"
      ],
      "metadata": {
        "id": "mpuvq2vhaC5A"
      }
    },
    {
      "cell_type": "code",
      "source": [
        "# Define your array\n",
        "arr = np.array([[1, 2],[3, 4]])\n",
        "\n",
        "#numpy.linalg.det() function is a part of NumPy's linear algebra module\n",
        "#This function is used to compute the determinant of a square matrix.\n",
        "\n",
        "\n",
        "#Calculate the determinant of the matrix\n",
        "determinant = np.linalg.det(arr)\n",
        "\n",
        "print(\"Determinant of the array:\")\n",
        "print(determinant)\n"
      ],
      "metadata": {
        "colab": {
          "base_uri": "https://localhost:8080/"
        },
        "id": "1Hh3KR-dZ_G4",
        "outputId": "49c24cb4-3cbf-42a1-a4d4-0043bf05adc8"
      },
      "execution_count": null,
      "outputs": [
        {
          "output_type": "stream",
          "name": "stdout",
          "text": [
            "Determinant of the array:\n",
            "-2.0000000000000004\n"
          ]
        }
      ]
    },
    {
      "cell_type": "markdown",
      "source": [
        "# Creating 3x3x3 array with random values"
      ],
      "metadata": {
        "id": "Z8eEb7babr38"
      }
    },
    {
      "cell_type": "code",
      "source": [
        "#Generating a 3x3 Numpy array 'x' filled with random floats between 0 and 1 using np.random.random()\n",
        "x=np.random.random((3,3,3))\n",
        "\n",
        "#printing the array 'x'\n",
        "print(x)"
      ],
      "metadata": {
        "colab": {
          "base_uri": "https://localhost:8080/"
        },
        "id": "KwwdQFt8bhyF",
        "outputId": "bc4ba3eb-8f7b-4578-fe0c-e5b6a7dcff53"
      },
      "execution_count": null,
      "outputs": [
        {
          "output_type": "stream",
          "name": "stdout",
          "text": [
            "[[[0.90575969 0.00496098 0.28432559]\n",
            "  [0.3329402  0.25632252 0.46619556]\n",
            "  [0.59438479 0.38810265 0.90130579]]\n",
            "\n",
            " [[0.08892591 0.6814387  0.46877625]\n",
            "  [0.60772922 0.52071287 0.3860595 ]\n",
            "  [0.48364086 0.6019215  0.85080924]]\n",
            "\n",
            " [[0.44652894 0.71577984 0.88639276]\n",
            "  [0.69524093 0.60733039 0.36830692]\n",
            "  [0.24073644 0.7991826  0.39632988]]]\n"
          ]
        }
      ]
    },
    {
      "cell_type": "markdown",
      "source": [
        " # Create a 5x5 array with random values and finding maximum and minimum values"
      ],
      "metadata": {
        "id": "LGWN_d5TcXOX"
      }
    },
    {
      "cell_type": "code",
      "source": [
        "#Generating a 5x5 Numpy array 'x' filled with random floats between 0 and 1 using np.random.random()\n",
        "x=np.random.random((5,5))\n",
        "\n",
        "#printing the orginal array 'x'\n",
        "print(\"Original array:\")\n",
        "print(x)\n",
        "\n",
        "#calculating the minimum and maximum values in array 'x' using x.min() and x.max() functions\n",
        "xmin, xmax = x.min() , x.max()\n",
        "\n",
        "#Printing the minimum and maximum values of the array of 'x'\n",
        "print('Minimum value:')\n",
        "print(xmin)\n",
        "print('Maximum value:')\n",
        "print(xmax)\n"
      ],
      "metadata": {
        "colab": {
          "base_uri": "https://localhost:8080/"
        },
        "id": "ufOgUOfccWyI",
        "outputId": "d0e89935-1e0a-4cc8-9b67-4686a3d89103"
      },
      "execution_count": null,
      "outputs": [
        {
          "output_type": "stream",
          "name": "stdout",
          "text": [
            "Original array:\n",
            "[[0.34933687 0.82288338 0.74240505 0.9102357  0.23030995]\n",
            " [0.52863894 0.44455146 0.79005389 0.22245311 0.26882706]\n",
            " [0.1099597  0.59185225 0.16122738 0.4436193  0.6701006 ]\n",
            " [0.79964323 0.11031606 0.98471257 0.90433531 0.71235602]\n",
            " [0.54753632 0.20895845 0.87094864 0.44044049 0.43785294]]\n",
            "Minimum value:\n",
            "0.10995969855403187\n",
            "Maximum value:\n",
            "0.9847125709506582\n"
          ]
        }
      ]
    },
    {
      "cell_type": "markdown",
      "source": [
        "# Compute the mean, standard deviation, and variance of a given array"
      ],
      "metadata": {
        "id": "_a1zyNxZdg9_"
      }
    },
    {
      "cell_type": "code",
      "source": [
        "# Define your array\n",
        "arr = np.array([[1, 2, 3],[4, 5, 6],[7, 8, 9]])\n",
        "\n",
        "# Compute the mean along the second axis\n",
        "mean_values = np.mean(arr, axis=1)\n",
        "\n",
        "# Compute the standard deviation along the second axis\n",
        "std_deviation = np.std(arr, axis=1)\n",
        "\n",
        "# Compute the variance along the second axis\n",
        "variance = np.var(arr, axis=1)\n",
        "\n",
        "print(\"Mean along the second axis:\")\n",
        "print(mean_values)\n",
        "\n",
        "print(\"\\nStandard deviation along the second axis:\")\n",
        "print(std_deviation)\n",
        "\n",
        "print(\"\\nVariance along the second axis:\")\n",
        "print(variance)\n"
      ],
      "metadata": {
        "colab": {
          "base_uri": "https://localhost:8080/"
        },
        "id": "8Ow4fD33dgKP",
        "outputId": "de232c4e-6670-4959-8666-216f553a8c2e"
      },
      "execution_count": null,
      "outputs": [
        {
          "output_type": "stream",
          "name": "stdout",
          "text": [
            "Mean along the second axis:\n",
            "[2. 5. 8.]\n",
            "\n",
            "Standard deviation along the second axis:\n",
            "[0.81649658 0.81649658 0.81649658]\n",
            "\n",
            "Variance along the second axis:\n",
            "[0.66666667 0.66666667 0.66666667]\n"
          ]
        }
      ]
    }
  ]
}